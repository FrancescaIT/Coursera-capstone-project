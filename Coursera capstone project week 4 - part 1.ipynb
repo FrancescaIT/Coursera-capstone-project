{
    "cells": [
        {
            "cell_type": "markdown",
            "metadata": {},
            "source": "# **Most efficient cultural holiday in Florence - part 1**"
        },
        {
            "cell_type": "markdown",
            "metadata": {},
            "source": "### by Francesca Scalese"
        },
        {
            "cell_type": "markdown",
            "metadata": {},
            "source": "**NOTE**: Thhis is the first part of the final assignment for the coursera capstone course. The complete version wil be posted in the week 5 assignment"
        },
        {
            "cell_type": "markdown",
            "metadata": {},
            "source": "## 1. Introduction"
        },
        {
            "cell_type": "markdown",
            "metadata": {},
            "source": "### 1.1 Background"
        },
        {
            "cell_type": "markdown",
            "metadata": {},
            "source": "Florence is an italian city rich of history and cultural heritage sites like museums, churches... They are both in the city's centre or in peripheral zones. You can easily access to a lot of them because Florence is not a huge city so you can easily move even by foot. The possibility of cultural holiday are very large."
        },
        {
            "cell_type": "markdown",
            "metadata": {},
            "source": "### 1.2 Problem"
        },
        {
            "cell_type": "markdown",
            "metadata": {},
            "source": "My client wishes spent a cultural holiday (a week) in Florence visiting as many cultural sites as possible. In particular the client is interested in museums and churches. The most part of them are in the city's centre. The problem is that public transport cannot go in this zone because it is a pedestrian area. The best way is go by foot. In order to visit as many churches and museums as possible, my client wishes to find an hotel in a zone with the highest concentration of these sites. Moreover, the fee for the hotels need to be at maximum 50 euros per night."
        },
        {
            "cell_type": "markdown",
            "metadata": {},
            "source": "### 1.3 Interest"
        },
        {
            "cell_type": "markdown",
            "metadata": {},
            "source": "This work can be useful to anyone wants to spend an holiday in Florence visiting museums or churches for personal interest, job, study or research. They can be single people or a group of students."
        }
    ],
    "metadata": {
        "kernelspec": {
            "display_name": "Python 3.7",
            "language": "python",
            "name": "python3"
        },
        "language_info": {
            "codemirror_mode": {
                "name": "ipython",
                "version": 3
            },
            "file_extension": ".py",
            "mimetype": "text/x-python",
            "name": "python",
            "nbconvert_exporter": "python",
            "pygments_lexer": "ipython3",
            "version": "3.7.10"
        }
    },
    "nbformat": 4,
    "nbformat_minor": 1
}